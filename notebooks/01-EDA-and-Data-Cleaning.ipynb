{
 "cells": [
  {
   "cell_type": "code",
   "execution_count": null,
   "id": "129c3771-1a88-4f42-bf9e-53da658b9f3e",
   "metadata": {},
   "outputs": [],
   "source": [
    "import pandas as pd"
   ]
  },
  {
   "cell_type": "code",
   "execution_count": null,
   "id": "b4e528d5-44f2-4a1d-a4aa-7e44b19f9b88",
   "metadata": {},
   "outputs": [],
   "source": [
    "df = pd.read_csv(\"../data/books.csv\", on_bad_lines = \"skip\")\n",
    "df = df.drop('bookID', axis=1)\n",
    "df.head()"
   ]
  },
  {
   "cell_type": "code",
   "execution_count": null,
   "id": "c6161c86-1ae0-41c5-96ed-32b2ef988c86",
   "metadata": {},
   "outputs": [],
   "source": [
    "df.tail()"
   ]
  },
  {
   "cell_type": "code",
   "execution_count": null,
   "id": "a48c3431-1341-4636-8dc5-cfd795eacbfd",
   "metadata": {},
   "outputs": [],
   "source": [
    "df.info()"
   ]
  },
  {
   "cell_type": "code",
   "execution_count": null,
   "id": "131ef6f6-ae04-40ff-a236-d8da01cbd036",
   "metadata": {},
   "outputs": [],
   "source": [
    "df.describe()"
   ]
  },
  {
   "cell_type": "code",
   "execution_count": null,
   "id": "cec7b3a6-bf03-4621-b28c-9080799becbe",
   "metadata": {},
   "outputs": [],
   "source": [
    "df.shape"
   ]
  },
  {
   "cell_type": "code",
   "execution_count": null,
   "id": "20c377bb-2e2f-46d7-9a12-2e0d54606e8e",
   "metadata": {},
   "outputs": [],
   "source": [
    "df.isnull().sum()"
   ]
  },
  {
   "cell_type": "code",
   "execution_count": null,
   "id": "f1396c7a-0427-4233-8a4c-6d708f575adf",
   "metadata": {},
   "outputs": [],
   "source": [
    "df.columns"
   ]
  },
  {
   "cell_type": "code",
   "execution_count": null,
   "id": "d6dab6f5-a32c-47f1-87e5-c6e06e081f00",
   "metadata": {},
   "outputs": [],
   "source": [
    "df.columns = df.columns.str.strip()"
   ]
  },
  {
   "cell_type": "code",
   "execution_count": null,
   "id": "9f884122-fd8f-4623-b815-042556bc2372",
   "metadata": {},
   "outputs": [],
   "source": [
    "df.columns"
   ]
  },
  {
   "cell_type": "code",
   "execution_count": null,
   "id": "03815c43-0fcd-484d-86e2-34d3c07d606c",
   "metadata": {},
   "outputs": [],
   "source": [
    "df['publication_date'].head()"
   ]
  },
  {
   "cell_type": "code",
   "execution_count": null,
   "id": "fbecfb7e-a51d-4f81-87d2-a2e25a3e329d",
   "metadata": {},
   "outputs": [],
   "source": [
    "df['publication_date'] = pd.to_datetime(df['publication_date'],errors='coerce')"
   ]
  },
  {
   "cell_type": "code",
   "execution_count": null,
   "id": "4f267f91-c5a3-4457-b9c3-75ec170e4e29",
   "metadata": {},
   "outputs": [],
   "source": [
    "df.info()"
   ]
  },
  {
   "cell_type": "code",
   "execution_count": null,
   "id": "4235095e-fe17-453f-892b-d95d69e2be4a",
   "metadata": {},
   "outputs": [],
   "source": [
    "df[df['publication_date'].isnull()]"
   ]
  },
  {
   "cell_type": "code",
   "execution_count": null,
   "id": "e5ff5406-2e36-4605-aeb9-a4e466fe561f",
   "metadata": {},
   "outputs": [],
   "source": [
    "df['publication_year'] = df['publication_date'].dt.year"
   ]
  },
  {
   "cell_type": "code",
   "execution_count": null,
   "id": "914f1ae4-73c0-4d90-b6e1-3b3548197f55",
   "metadata": {},
   "outputs": [],
   "source": [
    "df.head()"
   ]
  },
  {
   "cell_type": "code",
   "execution_count": null,
   "id": "f3eb21ef-01ab-4fb8-b8fa-59c6eb52b207",
   "metadata": {},
   "outputs": [],
   "source": [
    "df.isnull().sum()"
   ]
  },
  {
   "cell_type": "code",
   "execution_count": null,
   "id": "768d993d-3ef7-4cd6-b3e9-558fe0bb4bbd",
   "metadata": {},
   "outputs": [],
   "source": [
    "df[\"language_code\"].value_counts()"
   ]
  },
  {
   "cell_type": "code",
   "execution_count": null,
   "id": "e7bd379d-c67d-4013-a2d8-690ce66849dc",
   "metadata": {},
   "outputs": [],
   "source": [
    "df = df.dropna()"
   ]
  },
  {
   "cell_type": "code",
   "execution_count": null,
   "id": "b3daea0c-48ee-419e-aeea-a736f1ed0b70",
   "metadata": {},
   "outputs": [],
   "source": [
    "df.isnull().sum()"
   ]
  },
  {
   "cell_type": "code",
   "execution_count": null,
   "id": "fab6f27b-49b4-4f93-9b80-1b1bcacabc18",
   "metadata": {},
   "outputs": [],
   "source": [
    "df.shape"
   ]
  },
  {
   "cell_type": "code",
   "execution_count": null,
   "id": "814438af-4746-4b74-8a4a-2957b5f42d39",
   "metadata": {},
   "outputs": [],
   "source": [
    "import matplotlib.pyplot as plt\n",
    "import seaborn as sns"
   ]
  },
  {
   "cell_type": "code",
   "execution_count": null,
   "id": "5b6555de-30d5-49ed-801b-c61feef8dbc4",
   "metadata": {},
   "outputs": [],
   "source": [
    "sns.set_style('whitegrid')"
   ]
  },
  {
   "cell_type": "code",
   "execution_count": null,
   "id": "40a6678a-9102-449c-a38b-09e9a2c2bbef",
   "metadata": {},
   "outputs": [],
   "source": [
    "plt.figure(figsize=(10,6))\n",
    "sns.histplot(df['average_rating'], bins=30, kde=10)\n",
    "plt.title('Distribution of Average Book Ratings')\n",
    "plt.xlabel('Average Rating')\n",
    "plt.ylabel('Frequency')\n",
    "plt.show()"
   ]
  },
  {
   "cell_type": "code",
   "execution_count": null,
   "id": "47fd1dc2-5064-47db-b97a-10252d415777",
   "metadata": {},
   "outputs": [],
   "source": [
    "print(f\"Mean rating : {df['average_rating'].mean()}\")\n",
    "print(f\"Median rating : {df['average_rating'].median()}\")"
   ]
  },
  {
   "cell_type": "code",
   "execution_count": null,
   "id": "7e081fbe-9a37-465c-b7f0-6d29d72fa088",
   "metadata": {},
   "outputs": [],
   "source": [
    "df['is_highly_rated'] = (df['average_rating'] >= df['average_rating'].median()).astype(int)"
   ]
  },
  {
   "cell_type": "code",
   "execution_count": null,
   "id": "c0ba0b03-66c5-4b24-8c64-a53ace36b40e",
   "metadata": {},
   "outputs": [],
   "source": [
    "df[['title', 'average_rating', 'is_highly_rated']].head(20)"
   ]
  },
  {
   "cell_type": "code",
   "execution_count": null,
   "id": "db867725-b0f9-4bb5-8c5d-0d1b93ccf567",
   "metadata": {},
   "outputs": [],
   "source": [
    "features =  ['num_pages', 'ratings_count', 'text_reviews_count', 'publication_year', 'language_code']\n",
    "target = 'is_highly_rated'\n",
    "\n",
    "X = df[features]\n",
    "y = df[target]"
   ]
  },
  {
   "cell_type": "code",
   "execution_count": null,
   "id": "15d69492-e4cf-4355-9999-fe659d27c3b3",
   "metadata": {},
   "outputs": [],
   "source": [
    "from sklearn.model_selection import train_test_split\n",
    "from sklearn.compose import ColumnTransformer\n",
    "from sklearn.preprocessing import StandardScaler, OneHotEncoder"
   ]
  },
  {
   "cell_type": "code",
   "execution_count": null,
   "id": "794662f8-b69e-4429-adc4-b161fcee9c49",
   "metadata": {},
   "outputs": [],
   "source": [
    "X_train, X_test, y_train, y_test = train_test_split(X, y, test_size = 0.2, random_state = 42)"
   ]
  },
  {
   "cell_type": "code",
   "execution_count": null,
   "id": "e1b83676-8a73-43d9-8496-c893f0f08530",
   "metadata": {},
   "outputs": [],
   "source": [
    "numerical_features = ['num_pages', 'ratings_count', 'text_reviews_count', 'publication_year']\n",
    "categorical_features = ['language_code']\n",
    "\n",
    "preprocessor = ColumnTransformer(\n",
    "    transformers = [\n",
    "        ('num', StandardScaler(), numerical_features),\n",
    "        ('cat', OneHotEncoder(handle_unknown = 'ignore'), categorical_features)\n",
    "    ]\n",
    ")\n",
    "\n",
    "X_train_processed = preprocessor.fit_transform(X_train)\n",
    "X_test_processed = preprocessor.transform(X_test)"
   ]
  },
  {
   "cell_type": "code",
   "execution_count": null,
   "id": "99cd2914-e16f-4bef-affa-c5d35a06db95",
   "metadata": {},
   "outputs": [],
   "source": [
    "print(\"Shape of processed training data:\", X_train_processed.shape)\n",
    "print(\"Shape of processed test data:\", X_test_processed.shape)"
   ]
  },
  {
   "cell_type": "code",
   "execution_count": null,
   "id": "5c294509-104d-47a4-96e4-a21838cf79c2",
   "metadata": {},
   "outputs": [],
   "source": [
    "from sklearn.linear_model import LogisticRegression\n",
    "\n",
    "model = LogisticRegression(random_state=42)\n",
    "model.fit(X_train_processed, y_train)\n",
    "\n",
    "print(\"Model training complete!\")"
   ]
  },
  {
   "cell_type": "code",
   "execution_count": null,
   "id": "725050d0-9fc6-4679-ac76-db49b34f5c81",
   "metadata": {},
   "outputs": [],
   "source": [
    "y_pred = model.predict(X_test_processed)"
   ]
  },
  {
   "cell_type": "code",
   "execution_count": null,
   "id": "d6137b9a-a40a-4889-94fb-d68a50daaa40",
   "metadata": {},
   "outputs": [],
   "source": [
    "from sklearn.metrics import accuracy_score, classification_report\n",
    "\n",
    "accuracy = accuracy_score(y_test,y_pred)\n",
    "print(f\"Accuracy: {accuracy:.4f}\")"
   ]
  },
  {
   "cell_type": "code",
   "execution_count": null,
   "id": "839d5e6a-bf94-4c31-aace-c00d27c5f501",
   "metadata": {},
   "outputs": [],
   "source": [
    "print(classification_report(y_test, y_pred))"
   ]
  },
  {
   "cell_type": "code",
   "execution_count": null,
   "id": "84d7eee4-7e6a-4cc6-970d-fb2b0eece550",
   "metadata": {},
   "outputs": [],
   "source": []
  }
 ],
 "metadata": {
  "kernelspec": {
   "display_name": ".venv",
   "language": "python",
   "name": "python3"
  },
  "language_info": {
   "codemirror_mode": {
    "name": "ipython",
    "version": 3
   },
   "file_extension": ".py",
   "mimetype": "text/x-python",
   "name": "python",
   "nbconvert_exporter": "python",
   "pygments_lexer": "ipython3",
   "version": "3.10.0"
  }
 },
 "nbformat": 4,
 "nbformat_minor": 5
}
